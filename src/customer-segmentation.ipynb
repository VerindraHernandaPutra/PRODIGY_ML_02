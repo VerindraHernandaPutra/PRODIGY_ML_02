{
 "cells": [
  {
   "cell_type": "markdown",
   "id": "736a03d8",
   "metadata": {},
   "source": [
    "**=== Mall Customer Segmentation Data ===**\n",
    "\n",
    "by **Verindra Hernanda Putra**"
   ]
  },
  {
   "cell_type": "markdown",
   "id": "79a4c0d5",
   "metadata": {},
   "source": [
    "# Overview\n",
    "\n",
    "The overral process is : \n",
    "\n",
    "- Data Loading, Exploration, and Preparation\n",
    "- Feature Scaling\n",
    "- Finding the Optimal Number of Clusters (K)\n",
    "- Applying K-Means and Assigning Labels\n",
    "- Cluster Profiling & Persona Creation"
   ]
  },
  {
   "cell_type": "markdown",
   "id": "f3b47381",
   "metadata": {},
   "source": [
    "# Data Loading, Exploration, and Preparation\n",
    "\n",
    "Preparation for the dataset, libraries, etc"
   ]
  },
  {
   "cell_type": "code",
   "execution_count": 1,
   "id": "0f92b722",
   "metadata": {},
   "outputs": [],
   "source": [
    "# Libraries\n",
    "import pandas as pd\n",
    "import numpy as np\n",
    "import matplotlib.pyplot as plt\n",
    "import seaborn as sns\n",
    "from sklearn.preprocessing import StandardScaler\n",
    "from sklearn.cluster import KMeans\n",
    "from sklearn.metrics import silhouette_score"
   ]
  },
  {
   "cell_type": "code",
   "execution_count": 3,
   "id": "2b3722ff",
   "metadata": {},
   "outputs": [],
   "source": [
    "# Load the dataset\n",
    "df = pd.read_csv('../input/Mall_Customers.csv')"
   ]
  },
  {
   "cell_type": "code",
   "execution_count": 4,
   "id": "62ca186c",
   "metadata": {},
   "outputs": [
    {
     "name": "stdout",
     "output_type": "stream",
     "text": [
      "--- Dataset Head ---\n",
      "   CustomerID  Gender  Age  Annual Income (k$)  Spending Score (1-100)\n",
      "0           1    Male   19                  15                      39\n",
      "1           2    Male   21                  15                      81\n",
      "2           3  Female   20                  16                       6\n",
      "3           4  Female   23                  16                      77\n",
      "4           5  Female   31                  17                      40\n",
      "\n",
      "--- Dataset Info ---\n",
      "<class 'pandas.core.frame.DataFrame'>\n",
      "RangeIndex: 200 entries, 0 to 199\n",
      "Data columns (total 5 columns):\n",
      " #   Column                  Non-Null Count  Dtype \n",
      "---  ------                  --------------  ----- \n",
      " 0   CustomerID              200 non-null    int64 \n",
      " 1   Gender                  200 non-null    object\n",
      " 2   Age                     200 non-null    int64 \n",
      " 3   Annual Income (k$)      200 non-null    int64 \n",
      " 4   Spending Score (1-100)  200 non-null    int64 \n",
      "dtypes: int64(4), object(1)\n",
      "memory usage: 7.9+ KB\n",
      "\n",
      "--- Statistical Summary ---\n",
      "       CustomerID         Age  Annual Income (k$)  Spending Score (1-100)\n",
      "count  200.000000  200.000000          200.000000              200.000000\n",
      "mean   100.500000   38.850000           60.560000               50.200000\n",
      "std     57.879185   13.969007           26.264721               25.823522\n",
      "min      1.000000   18.000000           15.000000                1.000000\n",
      "25%     50.750000   28.750000           41.500000               34.750000\n",
      "50%    100.500000   36.000000           61.500000               50.000000\n",
      "75%    150.250000   49.000000           78.000000               73.000000\n",
      "max    200.000000   70.000000          137.000000               99.000000\n"
     ]
    }
   ],
   "source": [
    "# Basic Information on Dataset\n",
    "print(\"--- Dataset Head ---\")\n",
    "print(df.head())\n",
    "\n",
    "print(\"\\n--- Dataset Info ---\")\n",
    "df.info()\n",
    "\n",
    "print(\"\\n--- Statistical Summary ---\")\n",
    "print(df.describe())"
   ]
  },
  {
   "cell_type": "code",
   "execution_count": 5,
   "id": "5bb5ce93",
   "metadata": {},
   "outputs": [
    {
     "name": "stdout",
     "output_type": "stream",
     "text": [
      "\n",
      "--- Missing Values Check ---\n",
      "CustomerID                0\n",
      "Gender                    0\n",
      "Age                       0\n",
      "Annual Income (k$)        0\n",
      "Spending Score (1-100)    0\n",
      "dtype: int64\n"
     ]
    }
   ],
   "source": [
    "# Check for missing values\n",
    "print(\"\\n--- Missing Values Check ---\")\n",
    "print(df.isnull().sum())"
   ]
  },
  {
   "cell_type": "code",
   "execution_count": 6,
   "id": "05ddf3ec",
   "metadata": {},
   "outputs": [
    {
     "name": "stdout",
     "output_type": "stream",
     "text": [
      "\n",
      "--- DataFrame with Cleaned Column Names ---\n",
      "   CustomerID  Gender  Age  Annual_Income_k  Spending_Score\n",
      "0           1    Male   19               15              39\n",
      "1           2    Male   21               15              81\n",
      "2           3  Female   20               16               6\n",
      "3           4  Female   23               16              77\n",
      "4           5  Female   31               17              40\n"
     ]
    }
   ],
   "source": [
    "# Rename columns for easier access\n",
    "df.rename(columns={\n",
    "    'Annual Income (k$)': 'Annual_Income_k',\n",
    "    'Spending Score (1-100)': 'Spending_Score'\n",
    "}, inplace=True)\n",
    "\n",
    "print(\"\\n--- DataFrame with Cleaned Column Names ---\")\n",
    "print(df.head())"
   ]
  },
  {
   "cell_type": "code",
   "execution_count": 7,
   "id": "41882407",
   "metadata": {},
   "outputs": [
    {
     "name": "stdout",
     "output_type": "stream",
     "text": [
      "\n",
      "--- Selected Features for Clustering ---\n",
      "   Age  Annual_Income_k  Spending_Score\n",
      "0   19               15              39\n",
      "1   21               15              81\n",
      "2   20               16               6\n",
      "3   23               16              77\n",
      "4   31               17              40\n"
     ]
    }
   ],
   "source": [
    "# Feature Selection\n",
    "# For this K-Means analysis, we will focus on the numerical features that describe customer behavior.\n",
    "# 'CustomerID' is a unique identifier and provides no clustering value.\n",
    "# 'Gender' is categorical. While it could be included using techniques like one-hot encoding,\n",
    "# the core of the segmentation lies in the numerical behavioral data.\n",
    "# We will base our primary clusters on Age, Income, and Spending Score.\n",
    "\n",
    "features_for_clustering = ['Age', 'Annual_Income_k', 'Spending_Score']\n",
    "X = df[features_for_clustering]\n",
    "\n",
    "print(\"\\n--- Selected Features for Clustering ---\")\n",
    "print(X.head())"
   ]
  },
  {
   "cell_type": "markdown",
   "id": "d0473c9f",
   "metadata": {},
   "source": [
    "# Feature Scaling\n",
    "\n",
    "Standardize the selected features."
   ]
  },
  {
   "cell_type": "code",
   "execution_count": 8,
   "id": "3ff8ed3d",
   "metadata": {},
   "outputs": [
    {
     "name": "stdout",
     "output_type": "stream",
     "text": [
      "--- Scaled Data (first 5 rows) ---\n",
      "[[-1.42456879 -1.73899919 -0.43480148]\n",
      " [-1.28103541 -1.73899919  1.19570407]\n",
      " [-1.3528021  -1.70082976 -1.71591298]\n",
      " [-1.13750203 -1.70082976  1.04041783]\n",
      " [-0.56336851 -1.66266033 -0.39597992]]\n"
     ]
    }
   ],
   "source": [
    "# Initialize the StandardScaler\n",
    "scaler = StandardScaler()\n",
    "\n",
    "# Fit the scaler to our features and transform them\n",
    "X_scaled = scaler.fit_transform(X)\n",
    "\n",
    "# The output is a NumPy array.\n",
    "print(\"--- Scaled Data (first 5 rows) ---\")\n",
    "print(X_scaled[:5])"
   ]
  },
  {
   "cell_type": "markdown",
   "id": "72e5e80e",
   "metadata": {},
   "source": [
    "# Finding the Optimal Number of Clusters (K)\n",
    "\n",
    "Determine the correct number of clusters."
   ]
  },
  {
   "cell_type": "code",
   "execution_count": 9,
   "id": "cfb5915e",
   "metadata": {},
   "outputs": [
    {
     "data": {
      "image/png": "[encoded data removed]",
      "text/plain": [
       "<Figure size 1800x600 with 1 Axes>"
      ]
     },
     "metadata": {},
     "output_type": "display_data"
    }
   ],
   "source": [
    "# The Elbow Method (using Inertia)\n",
    "inertia_scores = []\n",
    "k_range = range(1, 11)\n",
    "\n",
    "for k in k_range:\n",
    "    kmeans = KMeans(n_clusters=k, init='k-means++', random_state=42, n_init=10)\n",
    "    kmeans.fit(X_scaled)\n",
    "    inertia_scores.append(kmeans.inertia_)\n",
    "\n",
    "# Plotting the Elbow Method graph\n",
    "plt.figure(figsize=(18, 6))\n",
    "\n",
    "plt.subplot(1, 2, 1)\n",
    "plt.plot(k_range, inertia_scores, marker='o', linestyle='--')\n",
    "plt.title('The Elbow Method')\n",
    "plt.xlabel('Number of Clusters (K)')\n",
    "plt.ylabel('Inertia')\n",
    "plt.xticks(k_range)\n",
    "plt.grid(True)"
   ]
  },
  {
   "cell_type": "code",
   "execution_count": 10,
   "id": "4181e4e0",
   "metadata": {},
   "outputs": [
    {
     "data": {
      "image/png": "[encoded data removed]",
      "text/plain": [
       "<Figure size 640x480 with 1 Axes>"
      ]
     },
     "metadata": {},
     "output_type": "display_data"
    }
   ],
   "source": [
    "# Silhouette Score Analysis\n",
    "silhouette_scores = []\n",
    "k_range_sil = range(2, 11)\n",
    "\n",
    "for k in k_range_sil:\n",
    "    kmeans = KMeans(n_clusters=k, init='k-means++', random_state=42, n_init=10)\n",
    "    kmeans.fit(X_scaled)\n",
    "    score = silhouette_score(X_scaled, kmeans.labels_)\n",
    "    silhouette_scores.append(score)\n",
    "\n",
    "# Plotting the Silhouette Scores\n",
    "plt.subplot(1, 2, 2)\n",
    "plt.plot(k_range_sil, silhouette_scores, marker='o', linestyle='--')\n",
    "plt.title('Silhouette Scores for Various K')\n",
    "plt.xlabel('Number of Clusters (K)')\n",
    "plt.ylabel('Average Silhouette Score')\n",
    "plt.xticks(k_range_sil)\n",
    "plt.grid(True)\n",
    "\n",
    "plt.suptitle(\"Determining Optimal K\", fontsize=20)\n",
    "plt.tight_layout(rect=[0, 0.03, 1, 0.95])\n",
    "plt.show()"
   ]
  },
  {
   "cell_type": "markdown",
   "id": "546d8acd",
   "metadata": {},
   "source": [
    "# Applying K-Means with K=5\n",
    "\n",
    "With our optimal K determined, we proceed to build the final model and label our data."
   ]
  },
  {
   "cell_type": "code",
   "execution_count": 11,
   "id": "da9ec2e9",
   "metadata": {},
   "outputs": [
    {
     "name": "stdout",
     "output_type": "stream",
     "text": [
      "--- Dataframe with Final Cluster Labels ---\n",
      "   CustomerID  Gender  Age  Annual_Income_k  Spending_Score  Cluster\n",
      "0           1    Male   19               15              39        1\n",
      "1           2    Male   21               15              81        1\n",
      "2           3  Female   20               16               6        0\n",
      "3           4  Female   23               16              77        1\n",
      "4           5  Female   31               17              40        1\n"
     ]
    }
   ],
   "source": [
    "# Applying K-Means with K=5\n",
    "optimal_k = 5\n",
    "\n",
    "# Initialize and fit the final K-Means model\n",
    "kmeans_final = KMeans(n_clusters=optimal_k, init='k-means++', random_state=42, n_init=10)\n",
    "kmeans_final.fit(X_scaled)\n",
    "\n",
    "# Assign the cluster labels back to our original dataframe\n",
    "df['Cluster'] = kmeans_final.labels_\n",
    "\n",
    "print(\"--- Dataframe with Final Cluster Labels ---\")\n",
    "print(df.head())"
   ]
  },
  {
   "cell_type": "markdown",
   "id": "10de27ba",
   "metadata": {},
   "source": [
    "# Cluster Profiling\n",
    "\n",
    "analyze the central tendency of each cluster to build our personas."
   ]
  },
  {
   "cell_type": "code",
   "execution_count": 12,
   "id": "48d34665",
   "metadata": {},
   "outputs": [
    {
     "name": "stdout",
     "output_type": "stream",
     "text": [
      "               Age              Annual_Income_k              Spending_Score  \\\n",
      "              mean median count            mean median count           mean   \n",
      "Cluster                                                                       \n",
      "0        46.250000   47.0    20       26.750000   26.5    20      18.350000   \n",
      "1        25.185185   24.0    54       41.092593   40.0    54      62.240741   \n",
      "2        32.875000   32.0    40       86.100000   78.5    40      81.525000   \n",
      "3        39.871795   41.0    39       86.102564   78.0    39      19.358974   \n",
      "4        55.638298   54.0    47       54.382979   54.0    47      48.851064   \n",
      "\n",
      "                      \n",
      "        median count  \n",
      "Cluster               \n",
      "0         14.5    20  \n",
      "1         58.0    54  \n",
      "2         83.0    40  \n",
      "3         17.0    39  \n",
      "4         48.0    47  \n"
     ]
    }
   ],
   "source": [
    "# Cluster Profiling\n",
    "\n",
    "# Calculate summary statistics for each cluster\n",
    "cluster_profile = df.groupby('Cluster')[features_for_clustering].agg(['mean', 'median', 'count'])\n",
    "print(cluster_profile)"
   ]
  },
  {
   "cell_type": "code",
   "execution_count": 13,
   "id": "f3d918cb",
   "metadata": {},
   "outputs": [
    {
     "data": {
      "text/html": [
       "<div>\n",
       "<style scoped>\n",
       "    .dataframe tbody tr th:only-of-type {\n",
       "        vertical-align: middle;\n",
       "    }\n",
       "\n",
       "    .dataframe tbody tr th {\n",
       "        vertical-align: top;\n",
       "    }\n",
       "\n",
       "    .dataframe thead th {\n",
       "        text-align: right;\n",
       "    }\n",
       "</style>\n",
       "<table border=\"1\" class=\"dataframe\">\n",
       "  <thead>\n",
       "    <tr style=\"text-align: right;\">\n",
       "      <th></th>\n",
       "      <th>CustomerID</th>\n",
       "      <th>Gender</th>\n",
       "      <th>Age</th>\n",
       "      <th>Annual_Income_k</th>\n",
       "      <th>Spending_Score</th>\n",
       "      <th>Cluster</th>\n",
       "    </tr>\n",
       "  </thead>\n",
       "  <tbody>\n",
       "    <tr>\n",
       "      <th>0</th>\n",
       "      <td>1</td>\n",
       "      <td>Male</td>\n",
       "      <td>19</td>\n",
       "      <td>15</td>\n",
       "      <td>39</td>\n",
       "      <td>1</td>\n",
       "    </tr>\n",
       "    <tr>\n",
       "      <th>1</th>\n",
       "      <td>2</td>\n",
       "      <td>Male</td>\n",
       "      <td>21</td>\n",
       "      <td>15</td>\n",
       "      <td>81</td>\n",
       "      <td>1</td>\n",
       "    </tr>\n",
       "    <tr>\n",
       "      <th>2</th>\n",
       "      <td>3</td>\n",
       "      <td>Female</td>\n",
       "      <td>20</td>\n",
       "      <td>16</td>\n",
       "      <td>6</td>\n",
       "      <td>0</td>\n",
       "    </tr>\n",
       "    <tr>\n",
       "      <th>3</th>\n",
       "      <td>4</td>\n",
       "      <td>Female</td>\n",
       "      <td>23</td>\n",
       "      <td>16</td>\n",
       "      <td>77</td>\n",
       "      <td>1</td>\n",
       "    </tr>\n",
       "    <tr>\n",
       "      <th>4</th>\n",
       "      <td>5</td>\n",
       "      <td>Female</td>\n",
       "      <td>31</td>\n",
       "      <td>17</td>\n",
       "      <td>40</td>\n",
       "      <td>1</td>\n",
       "    </tr>\n",
       "    <tr>\n",
       "      <th>...</th>\n",
       "      <td>...</td>\n",
       "      <td>...</td>\n",
       "      <td>...</td>\n",
       "      <td>...</td>\n",
       "      <td>...</td>\n",
       "      <td>...</td>\n",
       "    </tr>\n",
       "    <tr>\n",
       "      <th>195</th>\n",
       "      <td>196</td>\n",
       "      <td>Female</td>\n",
       "      <td>35</td>\n",
       "      <td>120</td>\n",
       "      <td>79</td>\n",
       "      <td>2</td>\n",
       "    </tr>\n",
       "    <tr>\n",
       "      <th>196</th>\n",
       "      <td>197</td>\n",
       "      <td>Female</td>\n",
       "      <td>45</td>\n",
       "      <td>126</td>\n",
       "      <td>28</td>\n",
       "      <td>3</td>\n",
       "    </tr>\n",
       "    <tr>\n",
       "      <th>197</th>\n",
       "      <td>198</td>\n",
       "      <td>Male</td>\n",
       "      <td>32</td>\n",
       "      <td>126</td>\n",
       "      <td>74</td>\n",
       "      <td>2</td>\n",
       "    </tr>\n",
       "    <tr>\n",
       "      <th>198</th>\n",
       "      <td>199</td>\n",
       "      <td>Male</td>\n",
       "      <td>32</td>\n",
       "      <td>137</td>\n",
       "      <td>18</td>\n",
       "      <td>3</td>\n",
       "    </tr>\n",
       "    <tr>\n",
       "      <th>199</th>\n",
       "      <td>200</td>\n",
       "      <td>Male</td>\n",
       "      <td>30</td>\n",
       "      <td>137</td>\n",
       "      <td>83</td>\n",
       "      <td>2</td>\n",
       "    </tr>\n",
       "  </tbody>\n",
       "</table>\n",
       "<p>200 rows × 6 columns</p>\n",
       "</div>"
      ],
      "text/plain": [
       "     CustomerID  Gender  Age  Annual_Income_k  Spending_Score  Cluster\n",
       "0             1    Male   19               15              39        1\n",
       "1             2    Male   21               15              81        1\n",
       "2             3  Female   20               16               6        0\n",
       "3             4  Female   23               16              77        1\n",
       "4             5  Female   31               17              40        1\n",
       "..          ...     ...  ...              ...             ...      ...\n",
       "195         196  Female   35              120              79        2\n",
       "196         197  Female   45              126              28        3\n",
       "197         198    Male   32              126              74        2\n",
       "198         199    Male   32              137              18        3\n",
       "199         200    Male   30              137              83        2\n",
       "\n",
       "[200 rows x 6 columns]"
      ]
     },
     "execution_count": 13,
     "metadata": {},
     "output_type": "execute_result"
    }
   ],
   "source": [
    "df"
   ]
  }
 ],
 "metadata": {
  "kernelspec": {
   "display_name": "tf",
   "language": "python",
   "name": "python3"
  },
  "language_info": {
   "codemirror_mode": {
    "name": "ipython",
    "version": 3
   },
   "file_extension": ".py",
   "mimetype": "text/x-python",
   "name": "python",
   "nbconvert_exporter": "python",
   "pygments_lexer": "ipython3",
   "version": "3.9.19"
  }
 },
 "nbformat": 4,
 "nbformat_minor": 5
}
